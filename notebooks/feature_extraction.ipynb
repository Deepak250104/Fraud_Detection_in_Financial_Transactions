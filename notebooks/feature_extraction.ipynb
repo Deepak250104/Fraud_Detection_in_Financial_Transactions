{
 "cells": [
  {
   "cell_type": "code",
   "execution_count": 1,
   "id": "7879cd67",
   "metadata": {},
   "outputs": [],
   "source": [
    "import pandas as pd\n",
    "import numpy as np\n",
    "from sklearn.preprocessing import OneHotEncoder\n",
    "from sklearn.pipeline import Pipeline\n",
    "from sklearn.compose import ColumnTransformer\n",
    "from sklearn.impute import SimpleImputer\n",
    "import joblib"
   ]
  },
  {
   "cell_type": "markdown",
   "id": "e9d6daa7",
   "metadata": {},
   "source": [
    "Load data"
   ]
  },
  {
   "cell_type": "code",
   "execution_count": 2,
   "id": "1327d386",
   "metadata": {},
   "outputs": [],
   "source": [
    "full_df = pd.read_csv(\"../data/Fraud.csv\")"
   ]
  },
  {
   "cell_type": "markdown",
   "id": "b8973fe8",
   "metadata": {},
   "source": [
    "Drop columns that are identifiers or not useful for modeling"
   ]
  },
  {
   "cell_type": "code",
   "execution_count": 3,
   "id": "bb4221c4",
   "metadata": {},
   "outputs": [],
   "source": [
    "full_df = full_df.drop(['nameOrig', 'nameDest', 'isFlaggedFraud'], axis=1)"
   ]
  },
  {
   "cell_type": "markdown",
   "id": "da7be7a4",
   "metadata": {},
   "source": [
    "Identify features and target"
   ]
  },
  {
   "cell_type": "code",
   "execution_count": 4,
   "id": "edc27ad4",
   "metadata": {},
   "outputs": [],
   "source": [
    "X = full_df.drop('isFraud', axis=1)\n",
    "y = full_df['isFraud']"
   ]
  },
  {
   "cell_type": "markdown",
   "id": "a350a537",
   "metadata": {},
   "source": [
    "Feature Engineering"
   ]
  },
  {
   "cell_type": "code",
   "execution_count": 5,
   "id": "b6c7ac46",
   "metadata": {},
   "outputs": [],
   "source": [
    "# These new features help identify inconsistencies in transaction balances\n",
    "X['errorBalanceOrig'] = X['oldbalanceOrg'] - X['newbalanceOrig'] - X['amount']\n",
    "X['errorBalanceDest'] = X['newbalanceDest'] - X['oldbalanceDest'] - X['amount']"
   ]
  },
  {
   "cell_type": "markdown",
   "id": "710e545d",
   "metadata": {},
   "source": [
    "Categorical and numerical columns"
   ]
  },
  {
   "cell_type": "code",
   "execution_count": 6,
   "id": "abcdee30",
   "metadata": {},
   "outputs": [],
   "source": [
    "cat_cols = ['type']  # Categorical features like transaction type\n",
    "num_cols = X.drop(columns=cat_cols).columns.tolist()  # All other numeric features"
   ]
  },
  {
   "cell_type": "markdown",
   "id": "8976395f",
   "metadata": {},
   "source": [
    "Preprocessing pipeline"
   ]
  },
  {
   "cell_type": "code",
   "execution_count": 7,
   "id": "31fb37fd",
   "metadata": {},
   "outputs": [],
   "source": [
    "# Pipeline for numerical features: fill missing values with the mean\n",
    "num_pipeline = Pipeline([\n",
    "    ('imputer', SimpleImputer(strategy='mean'))\n",
    "])\n",
    "\n",
    "# Pipeline for categorical features: one-hot encode\n",
    "cat_pipeline = Pipeline([\n",
    "    ('onehot', OneHotEncoder(handle_unknown='ignore'))\n",
    "])\n",
    "\n",
    "# Combine both into a single preprocessing pipeline\n",
    "preprocessor = ColumnTransformer([\n",
    "    ('num', num_pipeline, num_cols),\n",
    "    ('cat', cat_pipeline, cat_cols)\n",
    "])"
   ]
  },
  {
   "cell_type": "markdown",
   "id": "9135e773",
   "metadata": {},
   "source": [
    "Fit and transform"
   ]
  },
  {
   "cell_type": "code",
   "execution_count": 8,
   "id": "56cb66da",
   "metadata": {},
   "outputs": [],
   "source": [
    "X_processed = preprocessor.fit_transform(X)"
   ]
  },
  {
   "cell_type": "markdown",
   "id": "2d270097",
   "metadata": {},
   "source": [
    "Save transformed data and preprocessor"
   ]
  },
  {
   "cell_type": "code",
   "execution_count": 9,
   "id": "b16ee8c8",
   "metadata": {},
   "outputs": [],
   "source": [
    "# Save the preprocessor for later use during inference\n",
    "joblib.dump(preprocessor, '../models/preprocessor.pkl')\n",
    "\n",
    "# Save transformed features and target for training\n",
    "pd.DataFrame(X_processed.toarray() if hasattr(X_processed, 'toarray') else X_processed).to_csv('../data/processed_features.csv', index=False)\n",
    "y.to_csv('../data/processed_target.csv', index=False)"
   ]
  }
 ],
 "metadata": {
  "kernelspec": {
   "display_name": ".venv",
   "language": "python",
   "name": "python3"
  },
  "language_info": {
   "codemirror_mode": {
    "name": "ipython",
    "version": 3
   },
   "file_extension": ".py",
   "mimetype": "text/x-python",
   "name": "python",
   "nbconvert_exporter": "python",
   "pygments_lexer": "ipython3",
   "version": "3.12.4"
  }
 },
 "nbformat": 4,
 "nbformat_minor": 5
}
